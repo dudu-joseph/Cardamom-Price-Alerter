{
 "metadata": {
  "language_info": {
   "codemirror_mode": {
    "name": "ipython",
    "version": 3
   },
   "file_extension": ".py",
   "mimetype": "text/x-python",
   "name": "python",
   "nbconvert_exporter": "python",
   "pygments_lexer": "ipython3",
   "version": "3.8.10"
  },
  "orig_nbformat": 4,
  "kernelspec": {
   "name": "python3",
   "display_name": "Python 3.8.10 64-bit"
  },
  "interpreter": {
   "hash": "31f2aee4e71d21fbe5cf8b01ff0e069b9275f58929596ceb00d14d90e3e16cd6"
  }
 },
 "nbformat": 4,
 "nbformat_minor": 2,
 "cells": [
  {
   "cell_type": "code",
   "execution_count": null,
   "metadata": {},
   "outputs": [],
   "source": [
    "import requests\n",
    "from bs4 import BeautifulSoup  \n",
    "import pandas as pd \n",
    "from datetime import date"
   ]
  },
  {
   "cell_type": "code",
   "execution_count": null,
   "metadata": {},
   "outputs": [],
   "source": [
    "today = date.today()\n",
    "today = today.strftime(\"%d-%b-%Y\")"
   ]
  },
  {
   "cell_type": "code",
   "execution_count": null,
   "metadata": {},
   "outputs": [],
   "source": [
    "print(today)"
   ]
  },
  {
   "cell_type": "code",
   "execution_count": null,
   "metadata": {},
   "outputs": [],
   "source": [
    "url = \"http://www.indianspices.com/marketing/price/domestic/daily-price-small.html\"\n",
    "response = requests.get(url)\n",
    "print(response)"
   ]
  },
  {
   "cell_type": "code",
   "execution_count": null,
   "metadata": {
    "tags": [
     "outputPrepend"
    ]
   },
   "outputs": [],
   "source": [
    "soup = BeautifulSoup(response.text, 'lxml')\n",
    "print(soup)"
   ]
  },
  {
   "cell_type": "code",
   "execution_count": null,
   "metadata": {},
   "outputs": [],
   "source": [
    "table_data =  soup.find('table', width = \"100%\")\n",
    "print(table_data)"
   ]
  },
  {
   "cell_type": "code",
   "execution_count": null,
   "metadata": {},
   "outputs": [],
   "source": [
    "headers = [\"Sno\", \"Date of Auction\", \"Auctioneer\", \"No.of Lots\", \"Total Qty Arrived (Kgs)\", \"Qty Sold (Kgs)\", \"MaxPrice (Rs./Kg)\", \"Avg.Price (Rs./Kg)\"]\n",
    "df = pd.DataFrame(columns = headers)"
   ]
  },
  {
   "cell_type": "code",
   "execution_count": null,
   "metadata": {},
   "outputs": [],
   "source": [
    "df.head(10)"
   ]
  },
  {
   "cell_type": "code",
   "execution_count": null,
   "metadata": {},
   "outputs": [],
   "source": [
    "for i in table_data.find_all('tr'):\n",
    "    row_data = i.find_all('td')\n",
    "    row = [tr.text.strip() for tr in row_data]\n",
    "    length = len(df)\n",
    "    df.loc[length] = row"
   ]
  },
  {
   "cell_type": "code",
   "execution_count": null,
   "metadata": {},
   "outputs": [],
   "source": [
    "df.head(15)"
   ]
  },
  {
   "cell_type": "code",
   "execution_count": null,
   "metadata": {},
   "outputs": [],
   "source": [
    "today_df = df.loc[df['Date of Auction'] == today]\n",
    "today_df.head(10)"
   ]
  },
  {
   "cell_type": "code",
   "execution_count": null,
   "metadata": {},
   "outputs": [],
   "source": [
    "number_of_auctioners = len(today_df.index)\n",
    "Auctioner_name = []\n",
    "Number_of_lots = []\n",
    "Total_quantity = []\n",
    "Quantity_sold = []\n",
    "Remaining_quantity = []\n",
    "Max_Price = []\n",
    "Avg_Price = []"
   ]
  },
  {
   "cell_type": "code",
   "execution_count": null,
   "metadata": {},
   "outputs": [],
   "source": [
    "t1 = today_df['Auctioneer'].iloc[0]\n",
    "print(t1)\n",
    "print(type(t1))\n",
    "t = str(t1)\n",
    "print(t)\n",
    "print(type(t))\n",
    "Auctioner_name.append(t1)\n",
    "print(Auctioner_name)"
   ]
  },
  {
   "cell_type": "code",
   "execution_count": null,
   "metadata": {},
   "outputs": [],
   "source": [
    "number_of_auctioners = len(today_df.index)\n",
    "Auctioneer_name = []\n",
    "Number_of_lots = []\n",
    "Total_quantity = []\n",
    "Quantity_sold = []\n",
    "Remaining_quantity = []\n",
    "Max_Price = []\n",
    "Avg_Price = []"
   ]
  },
  {
   "cell_type": "code",
   "execution_count": null,
   "metadata": {},
   "outputs": [],
   "source": [
    "i = 0 \n",
    "print(Auctioner_name)\n",
    "for i in range(number_of_auctioners):\n",
    "    Auctioneer_name.append(today_df['Auctioneer'].iloc[i])\n",
    "    Number_of_lots.append(today_df['No.of Lots'].iloc[i])\n",
    "    Total_quantity.append(today_df['Total Qty Arrived (Kgs)'].iloc[i])\n",
    "    Quantity_sold.append(today_df['Qty Sold (Kgs)'].iloc[i])\n",
    "    Max_Price.append(today_df['MaxPrice (Rs./Kg)'].iloc[i])\n",
    "    Avg_Price.append(today_df['Avg.Price (Rs./Kg)'].iloc[i])\n",
    "    tot_qty = float(today_df['Total Qty Arrived (Kgs)'].iloc[i])\n",
    "    sold_qty = float(today_df['Qty Sold (Kgs)'].iloc[i])\n",
    "    remain_qty = tot_qty - sold_qty\n",
    "    remain_qty = str(remain_qty)\n",
    "    Remaining_quantity.append(remain_qty)\n",
    "print(Auctioneer_name)\n",
    "print(Number_of_lots)\n",
    "print(Total_quantity)\n",
    "print(Quantity_sold)\n",
    "print(Remaining_quantity)\n",
    "print(Max_Price)\n",
    "print(Avg_Price)"
   ]
  },
  {
   "cell_type": "code",
   "execution_count": null,
   "metadata": {},
   "outputs": [],
   "source": [
    "today_df.head()"
   ]
  },
  {
   "cell_type": "code",
   "execution_count": null,
   "metadata": {},
   "outputs": [],
   "source": [
    "message_text = \"\"\n",
    "average_price = \"\"\n",
    "i = 0\n",
    "message_text = \"Cardamom Price Details for {}: \\n-----------------------------------------\\n\".format(today)\n",
    "average_price = \"Average Price for {}: \\n--------------------------------\\n\".format(today)\n",
    "#print(message_text)\n",
    "#print(average_price)\n",
    "for i in range(number_of_auctioners):\n",
    "    message_text = message_text + \"\\nAuctioneer: {}\\nNumber of Lots: {}\\nTotal Quantity Arrived: {}\\nQuantity Sold: {}\\nRemaining Quantity: {}\\nMaximum Price: Rs. {}\\nAverage Price: Rs. {}\\n\".format(Auctioneer_name[i], Number_of_lots[i], Total_quantity[i], Quantity_sold[i], Remaining_quantity[i], Max_Price[i], Avg_Price[i])\n",
    "print(message_text)\n",
    "\n",
    "for price in Avg_Price:\n",
    "    average_price = average_price + \"Rs. {}\\n\".format(price)\n",
    "print(average_price)"
   ]
  },
  {
   "cell_type": "code",
   "execution_count": null,
   "metadata": {},
   "outputs": [],
   "source": []
  }
 ]
}